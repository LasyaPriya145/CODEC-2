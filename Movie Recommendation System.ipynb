{
 "cells": [
  {
   "cell_type": "code",
   "execution_count": 1,
   "id": "272653d6-0e0f-4ccd-ae3a-b0e185ff2057",
   "metadata": {},
   "outputs": [],
   "source": [
    "import pandas as pd\n",
    "from sklearn.metrics.pairwise import cosine_similarity\n",
    "from sklearn.feature_extraction.text import CountVectorizer"
   ]
  },
  {
   "cell_type": "code",
   "execution_count": 3,
   "id": "e1c15268-aa79-45fc-829e-c88b1460bc36",
   "metadata": {},
   "outputs": [
    {
     "name": "stdout",
     "output_type": "stream",
     "text": [
      "Movies Dataset:\n",
      "   movieId          title                      genres\n",
      "0        1     The Matrix               Action|Sci-Fi\n",
      "1        2      John Wick             Action|Thriller\n",
      "2        3      Toy Story     Animation|Comedy|Family\n",
      "3        4   Finding Nemo  Animation|Adventure|Family\n",
      "4        5  The Lion King      Animation|Drama|Family \n",
      "\n",
      "Ratings Dataset:\n",
      "   userId  movieId  rating\n",
      "0       1        1       5\n",
      "1       1        2       4\n",
      "2       1        3       3\n",
      "3       2        2       5\n",
      "4       2        3       4 \n",
      "\n",
      "User-Movie Matrix:\n",
      "movieId   1    2    3    4    5    6    7    8    9    10\n",
      "userId                                                   \n",
      "1        5.0  4.0  3.0  0.0  0.0  0.0  0.0  0.0  0.0  0.0\n",
      "2        0.0  5.0  4.0  0.0  0.0  0.0  0.0  0.0  0.0  0.0\n",
      "3        4.0  0.0  2.0  5.0  0.0  0.0  0.0  0.0  0.0  0.0\n",
      "4        0.0  0.0  0.0  0.0  5.0  4.0  0.0  0.0  0.0  0.0\n",
      "5        0.0  0.0  0.0  0.0  0.0  0.0  5.0  3.0  0.0  0.0 \n",
      "\n",
      "Movie Similarity Matrix:\n",
      "movieId        1         2         3         4    5    6    7    8    9    10\n",
      "movieId                                                                      \n",
      "1        1.000000  0.487805  0.667017  0.624695  0.0  0.0  0.0  0.0  0.0  0.0\n",
      "2        0.487805  1.000000  0.928024  0.000000  0.0  0.0  0.0  0.0  0.0  0.0\n",
      "3        0.667017  0.928024  1.000000  0.371391  0.0  0.0  0.0  0.0  0.0  0.0\n",
      "4        0.624695  0.000000  0.371391  1.000000  0.0  0.0  0.0  0.0  0.0  0.0\n",
      "5        0.000000  0.000000  0.000000  0.000000  1.0  1.0  0.0  0.0  0.0  0.0 \n",
      "\n",
      "🔍 Recommendations for 'The Matrix'\n",
      "\n",
      "   movieId              title                      genres\n",
      "1        2          John Wick             Action|Thriller\n",
      "2        3          Toy Story     Animation|Comedy|Family\n",
      "3        4       Finding Nemo  Animation|Adventure|Family\n",
      "4        5      The Lion King      Animation|Drama|Family\n",
      "5        6  Avengers: Endgame     Action|Adventure|Sci-Fi\n"
     ]
    }
   ],
   "source": [
    "movies = pd.read_csv(\"movies.csv\")\n",
    "ratings = pd.read_csv(\"ratings.csv\")\n",
    "\n",
    "print(\"Movies Dataset:\")\n",
    "print(movies.head(), \"\\n\")\n",
    "\n",
    "print(\"Ratings Dataset:\")\n",
    "print(ratings.head(), \"\\n\")\n",
    "\n",
    "\n",
    "user_movie_matrix = ratings.pivot_table(index=\"userId\", columns=\"movieId\", values=\"rating\").fillna(0)\n",
    "\n",
    "print(\"User-Movie Matrix:\")\n",
    "print(user_movie_matrix.head(), \"\\n\")\n",
    "\n",
    "\n",
    "movie_similarity = cosine_similarity(user_movie_matrix.T)  # Transpose so movies are compared\n",
    "movie_similarity_df = pd.DataFrame(movie_similarity, index=user_movie_matrix.columns, columns=user_movie_matrix.columns)\n",
    "\n",
    "print(\"Movie Similarity Matrix:\")\n",
    "print(movie_similarity_df.head(), \"\\n\")\n",
    "\n",
    "\n",
    "def recommend_movies(movie_id, n=5):\n",
    "    if movie_id not in movie_similarity_df:\n",
    "        print(\"Movie ID not found!\")\n",
    "        return []\n",
    "    \n",
    "   \n",
    "    similar_scores = movie_similarity_df[movie_id].sort_values(ascending=False)\n",
    "    top_movies = similar_scores.iloc[1:n+1].index  # Skip itself (first one)\n",
    "    \n",
    "    recommended = movies[movies[\"movieId\"].isin(top_movies)][[\"movieId\", \"title\", \"genres\"]]\n",
    "    return recommended\n",
    "\n",
    "\n",
    "movie_to_search = 1 \n",
    "print(f\"🔍 Recommendations for '{movies[movies.movieId==movie_to_search]['title'].values[0]}'\\n\")\n",
    "print(recommend_movies(movie_to_search, n=5))"
   ]
  },
  {
   "cell_type": "code",
   "execution_count": null,
   "id": "9b9262c2-adde-4adf-8c20-92eeaa10d408",
   "metadata": {},
   "outputs": [],
   "source": []
  }
 ],
 "metadata": {
  "kernelspec": {
   "display_name": "Python [conda env:base] *",
   "language": "python",
   "name": "conda-base-py"
  },
  "language_info": {
   "codemirror_mode": {
    "name": "ipython",
    "version": 3
   },
   "file_extension": ".py",
   "mimetype": "text/x-python",
   "name": "python",
   "nbconvert_exporter": "python",
   "pygments_lexer": "ipython3",
   "version": "3.12.7"
  }
 },
 "nbformat": 4,
 "nbformat_minor": 5
}
